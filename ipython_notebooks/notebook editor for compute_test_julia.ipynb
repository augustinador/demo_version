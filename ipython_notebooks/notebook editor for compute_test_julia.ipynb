{
  "nbformat": 4,
  "nbformat_minor": 0,
  "metadata": {
    "celltoolbar": "Aucun(e)",
    "kernelspec": {
      "display_name": "Julia",
      "language": "julia",
      "name": "julia"
    },
    "language_info": {
      "file_extension": ".jl",
      "mimetype": "application/julia",
      "name": "julia"
    },
    "associatedRecipe": "compute_test_julia",
    "creator": "admin",
    "tags": [
      "recipe-editor"
    ],
    "customFields": {}
  },
  "cells": [
    {
      "cell_type": "code",
      "metadata": {},
      "outputs": [],
      "execution_count": 0,
      "source": [
        "using Dataiku\n",
        "import Dataiku: get_dataframe\n",
        "\n",
        "# Read recipe inputs\n",
        "student_mat_prepared_df \u003d get_dataframe(dataset\"student_mat_prepared\")\n",
        "\n",
        "\n",
        "# Compute recipe outputs from inputs\n",
        "# TODO: Replace this part by your actual code that computes the output, as a Julia DataFrame\n",
        "\n",
        "test_julia_df \u003d student_mat_prepared_df # For this sample code, simply copy input to output\n",
        "\n",
        "\n",
        "# Write recipe outputs\n",
        "Dataiku.write_with_schema(dataset\"test_julia\", test_julia_df)"
      ]
    }
  ]
}