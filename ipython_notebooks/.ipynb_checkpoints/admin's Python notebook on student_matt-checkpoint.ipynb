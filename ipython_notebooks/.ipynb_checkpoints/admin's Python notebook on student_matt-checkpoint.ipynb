{
 "cells": [
  {
   "cell_type": "code",
   "execution_count": 0,
   "metadata": {},
   "outputs": [],
   "source": [
    "%pylab inline"
   ]
  },
  {
   "cell_type": "code",
   "execution_count": 174,
   "metadata": {},
   "outputs": [],
   "source": [
    "import dataiku\n",
    "from dataiku import pandasutils as pdu\n",
    "import pandas as pd"
   ]
  },
  {
   "cell_type": "code",
   "execution_count": 0,
   "metadata": {},
   "outputs": [],
   "source": [
    "# Read the dataset as a Pandas dataframe in memory\n",
    "# Note: here, we only read the first 100K rows. Other sampling options are available\n",
    "dataset_student_matt = dataiku.Dataset(\"student_matt\")\n",
    "df = dataset_student_matt.get_dataframe(limit=100000)"
   ]
  },
  {
   "cell_type": "code",
   "execution_count": 0,
   "metadata": {},
   "outputs": [],
   "source": [
    "# Get some simple descriptive statistics\n",
    "pdu.audit(df)"
   ]
  },
  {
   "cell_type": "code",
   "execution_count": 131,
   "metadata": {},
   "outputs": [],
   "source": [
    "import dataikuapi"
   ]
  },
  {
   "cell_type": "code",
   "execution_count": null,
   "metadata": {},
   "outputs": [],
   "source": []
  },
  {
   "cell_type": "code",
   "execution_count": 132,
   "metadata": {},
   "outputs": [],
   "source": [
    "client = dataikuapi.dssclient.DSSClient(\"http://localhost:11000\", \"HAUXmeAGPVgIRluBKB34hltgwWQh5Ekc\")"
   ]
  },
  {
   "cell_type": "code",
   "execution_count": 184,
   "metadata": {},
   "outputs": [
    {
     "data": {
      "text/plain": [
       "{u'computationCount': -1,\n",
       " u'failedComputationsCount': -1,\n",
       " u'groups': [{u'type': u'all'},\n",
       "  {u'column': u'school', u'type': u'anum', u'values': [u'GP']},\n",
       "  {u'column': u'school', u'type': u'anum', u'values': [u'MS']}],\n",
       " u'notComputedCount': -1,\n",
       " u'results': [{u'boxPlot': {u'count': 395,\n",
       "    u'countComplete': 395,\n",
       "    u'max': 22.0,\n",
       "    u'mean': 16.696202531645568,\n",
       "    u'median': 17.0,\n",
       "    u'min': 15.0,\n",
       "    u'pc01': 15.0,\n",
       "    u'pc25': 16.0,\n",
       "    u'pc75': 18.0,\n",
       "    u'pc99': 20.0,\n",
       "    u'stdDev': 1.2760427246056283},\n",
       "   u'computationCount': 6,\n",
       "   u'dof': 394,\n",
       "   u'failedComputationsCount': 0,\n",
       "   u'notComputedCount': 0,\n",
       "   u'pvalue': 4.8413004865275e-289,\n",
       "   u'statistic': 104.29462162128924,\n",
       "   u'type': u'ttest_ztest_1samp'},\n",
       "  {u'boxPlot': {u'count': 349,\n",
       "    u'countComplete': 349,\n",
       "    u'max': 22.0,\n",
       "    u'mean': 16.521489971346703,\n",
       "    u'median': 16.0,\n",
       "    u'min': 15.0,\n",
       "    u'pc01': 15.0,\n",
       "    u'pc25': 16.0,\n",
       "    u'pc75': 17.0,\n",
       "    u'pc99': 19.0,\n",
       "    u'stdDev': 1.2166101686003064},\n",
       "   u'computationCount': 6,\n",
       "   u'dof': 348,\n",
       "   u'failedComputationsCount': 0,\n",
       "   u'notComputedCount': 0,\n",
       "   u'pvalue': 1.2118867962669759e-258,\n",
       "   u'statistic': 100.14011878233414,\n",
       "   u'type': u'ttest_ztest_1samp'},\n",
       "  {u'boxPlot': {u'count': 46,\n",
       "    u'countComplete': 46,\n",
       "    u'max': 21.0,\n",
       "    u'mean': 18.02173913043478,\n",
       "    u'median': 18.0,\n",
       "    u'min': 17.0,\n",
       "    u'pc01': 17.0,\n",
       "    u'pc25': 17.25,\n",
       "    u'pc75': 18.0,\n",
       "    u'pc99': 20.549999999999997,\n",
       "    u'stdDev': 0.8816431738466182},\n",
       "   u'computationCount': 6,\n",
       "   u'dof': 45,\n",
       "   u'failedComputationsCount': 0,\n",
       "   u'notComputedCount': 0,\n",
       "   u'pvalue': 3.907457567168489e-45,\n",
       "   u'statistic': 61.70986566343246,\n",
       "   u'type': u'ttest_ztest_1samp'}],\n",
       " u'type': u'groups'}"
      ]
     },
     "execution_count": 184,
     "metadata": {},
     "output_type": "execute_result"
    }
   ],
   "source": [
    "work = dataikuapi.dss.statistics.DSSStatisticsWorksheet(client, \"STUDENTPERFORMANCE\", \"student_matt\",\"eZO7Lsigm9\" )\n",
    "worksheet_settings = work.get_settings().get_raw()\n",
    "\n",
    "\n",
    "settings = dataikuapi.dss.statistics.DSSStatisticsWorksheetSettings(client, \"STUDENTPERFORMANCE\", \"student_matt\",\"v\", worksheet_settings )\n",
    "definition_tmp = settings.list_cards()[0]\n",
    "\n",
    "\n",
    "\n",
    "\n",
    "\n",
    "my_res.get_raw()"
   ]
  },
  {
   "cell_type": "code",
   "execution_count": 187,
   "metadata": {},
   "outputs": [],
   "source": [
    "work = dataikuapi.dss.statistics.DSSStatisticsWorksheet(client, \"STUDENTPERFORMANCE\", \"student_matt\",\"eZO7Lsigm9\" )\n",
    "worksheet_settings = work.get_settings().get_raw()\n",
    "\n",
    "\n",
    "settings = dataikuapi.dss.statistics.DSSStatisticsWorksheetSettings(client, \"STUDENTPERFORMANCE\", \"student_matt\",\"v\", worksheet_settings )\n",
    "definition_tmp = settings.list_cards()[0]\n",
    "\n",
    "\n",
    "\n",
    "\n",
    "groups = []\n",
    "pvalues = []\n",
    "my_res = work.run_card(definition_tmp) \n",
    "for i in range(1, len(my_res.get_raw()[\"groups\"])):\n",
    "    groups.append(my_res.get_raw()[\"groups\"][i][\"values\"][0])\n",
    "    pvalues.append(my_res.get_raw()[\"results\"][i][\"pvalue\"])\n",
    "\n",
    "    \n",
    "d = {'groups': groups, 'pvalues': pvalues}\n",
    "df = pd.DataFrame(data=d)\n"
   ]
  },
  {
   "cell_type": "code",
   "execution_count": null,
   "metadata": {},
   "outputs": [],
   "source": []
  },
  {
   "cell_type": "code",
   "execution_count": 72,
   "metadata": {},
   "outputs": [],
   "source": [
    "input_param = {\n",
    "    \"type\": \"ttest_2samp\",\n",
    "    \"value1\": [\n",
    "        \"F\"\n",
    "    ],\n",
    "    \"value2\": [\n",
    "        \"M\"\n",
    "    ],\n",
    "    \"confidenceLevel\": 0.95,\n",
    "    \"xColumn\": {\n",
    "        \"name\": \"G1\",\n",
    "        \"type\": \"CONTINUOUS\"\n",
    "    },\n",
    "    \"yColumn\": {\n",
    "        \"name\": \"sex\",\n",
    "        \"type\": \"CATEGORICAL\"\n",
    "    },\n",
    "    \"id\": \"JbnpRsl\"\n",
    "}"
   ]
  },
  {
   "cell_type": "code",
   "execution_count": 73,
   "metadata": {},
   "outputs": [],
   "source": []
  },
  {
   "cell_type": "code",
   "execution_count": 74,
   "metadata": {},
   "outputs": [],
   "source": [
    "compli = card.compile()\n",
    "card_result = compli.get_raw()"
   ]
  },
  {
   "cell_type": "code",
   "execution_count": 78,
   "metadata": {},
   "outputs": [
    {
     "data": {
      "text/plain": [
       "<dataikuapi.dss.statistics.DSSStatisticsCardSettings at 0x1096d10d0>"
      ]
     },
     "execution_count": 78,
     "metadata": {},
     "output_type": "execute_result"
    }
   ],
   "source": [
    "test = dataikuapi.dss.statistics.DSSStatisticsCardResult(card)\n",
    "test.get_raw()"
   ]
  },
  {
   "cell_type": "code",
   "execution_count": null,
   "metadata": {},
   "outputs": [],
   "source": []
  },
  {
   "cell_type": "code",
   "execution_count": 40,
   "metadata": {},
   "outputs": [],
   "source": [
    "test = dataikuapi.dss.statistics.DSSStatisticsCardSettings(client, {\"type\": \"ttest_2samp\",\n",
    "    \"value1\": [\n",
    "        \"F\"\n",
    "    ],\n",
    "    \"value2\": [\n",
    "        \"M\"\n",
    "    ],\n",
    "    \"confidenceLevel\": 0.95,\n",
    "    \"xColumn\": {\n",
    "        \"name\": \"G1\",\n",
    "        \"type\": \"CONTINUOUS\"\n",
    "    },\n",
    "    \"yColumn\": {\n",
    "        \"name\": \"sex\",\n",
    "        \"type\": \"CATEGORICAL\"\n",
    "    },\n",
    "    \"id\": \"JbnpRsl\"\n",
    "})"
   ]
  },
  {
   "cell_type": "code",
   "execution_count": 42,
   "metadata": {},
   "outputs": [],
   "source": [
    "my_param = test.get_raw()"
   ]
  },
  {
   "cell_type": "code",
   "execution_count": 53,
   "metadata": {},
   "outputs": [],
   "source": [
    "compli = test.compile() "
   ]
  },
  {
   "cell_type": "code",
   "execution_count": 55,
   "metadata": {},
   "outputs": [
    {
     "data": {
      "text/plain": [
       "{u'computations': [{u'computation': {u'computations': [{u'column': u'G1',\n",
       "      u'freqs': [0.0, 0.01, 0.25, 0.5, 0.75, 0.99, 1.0],\n",
       "      u'type': u'quantiles'},\n",
       "     {u'column': u'G1', u'type': u'mean'},\n",
       "     {u'type': u'count'},\n",
       "     {u'column': u'G1', u'type': u'std_dev'},\n",
       "     {u'computation': {u'type': u'count'},\n",
       "      u'grouping': {u'filter': {u'filter': {u'column': u'G1',\n",
       "         u'type': u'missing'},\n",
       "        u'type': u'not'},\n",
       "       u'type': u'subset'},\n",
       "      u'type': u'grouped'}],\n",
       "    u'type': u'multi'},\n",
       "   u'grouping': {u'filter': {u'column': u'sex',\n",
       "     u'type': u'anum',\n",
       "     u'values': [u'F']},\n",
       "    u'type': u'subset'},\n",
       "   u'type': u'grouped'},\n",
       "  {u'computation': {u'computations': [{u'column': u'G1',\n",
       "      u'freqs': [0.0, 0.01, 0.25, 0.5, 0.75, 0.99, 1.0],\n",
       "      u'type': u'quantiles'},\n",
       "     {u'column': u'G1', u'type': u'mean'},\n",
       "     {u'type': u'count'},\n",
       "     {u'column': u'G1', u'type': u'std_dev'},\n",
       "     {u'computation': {u'type': u'count'},\n",
       "      u'grouping': {u'filter': {u'filter': {u'column': u'G1',\n",
       "         u'type': u'missing'},\n",
       "        u'type': u'not'},\n",
       "       u'type': u'subset'},\n",
       "      u'type': u'grouped'}],\n",
       "    u'type': u'multi'},\n",
       "   u'grouping': {u'filter': {u'column': u'sex',\n",
       "     u'type': u'anum',\n",
       "     u'values': [u'M']},\n",
       "    u'type': u'subset'},\n",
       "   u'type': u'grouped'},\n",
       "  {u'computation': {u'computations': [{u'column': u'G1',\n",
       "      u'freqs': [0.0, 0.01, 0.25, 0.5, 0.75, 0.99, 1.0],\n",
       "      u'type': u'quantiles'},\n",
       "     {u'column': u'G1', u'type': u'mean'},\n",
       "     {u'type': u'count'},\n",
       "     {u'column': u'G1', u'type': u'std_dev'},\n",
       "     {u'computation': {u'type': u'count'},\n",
       "      u'grouping': {u'filter': {u'filter': {u'column': u'G1',\n",
       "         u'type': u'missing'},\n",
       "        u'type': u'not'},\n",
       "       u'type': u'subset'},\n",
       "      u'type': u'grouped'}],\n",
       "    u'type': u'multi'},\n",
       "   u'grouping': {u'innerGrouping': {u'groupings': [{u'filter': {u'column': u'sex',\n",
       "        u'type': u'anum',\n",
       "        u'values': [u'F']},\n",
       "       u'type': u'subset'},\n",
       "      {u'filter': {u'column': u'sex', u'type': u'anum', u'values': [u'M']},\n",
       "       u'type': u'subset'}],\n",
       "     u'type': u'union'},\n",
       "    u'type': u'merge'},\n",
       "   u'type': u'grouped'},\n",
       "  {u'adjustmentMethod': u'NONE',\n",
       "   u'column': u'G1',\n",
       "   u'grouping': {u'groupings': [{u'filter': {u'column': u'sex',\n",
       "       u'type': u'anum',\n",
       "       u'values': [u'F']},\n",
       "      u'type': u'subset'},\n",
       "     {u'filter': {u'column': u'sex', u'type': u'anum', u'values': [u'M']},\n",
       "      u'type': u'subset'}],\n",
       "    u'type': u'union'},\n",
       "   u'type': u'pairwise_ttest'}],\n",
       " u'type': u'multi'}"
      ]
     },
     "execution_count": 55,
     "metadata": {},
     "output_type": "execute_result"
    }
   ],
   "source": [
    "compli.get_raw()"
   ]
  },
  {
   "cell_type": "code",
   "execution_count": null,
   "metadata": {},
   "outputs": [],
   "source": []
  }
 ],
 "metadata": {
  "analyzedDataset": "student_matt",
  "creator": "admin",
  "customFields": {},
  "kernelspec": {
   "display_name": "Python 2",
   "language": "python",
   "name": "python2"
  },
  "language_info": {
   "codemirror_mode": {
    "name": "ipython",
    "version": 2
   },
   "file_extension": ".py",
   "mimetype": "text/x-python",
   "name": "python",
   "nbconvert_exporter": "python",
   "pygments_lexer": "ipython2",
   "version": "2.7.10"
  },
  "tags": []
 },
 "nbformat": 4,
 "nbformat_minor": 1
}
